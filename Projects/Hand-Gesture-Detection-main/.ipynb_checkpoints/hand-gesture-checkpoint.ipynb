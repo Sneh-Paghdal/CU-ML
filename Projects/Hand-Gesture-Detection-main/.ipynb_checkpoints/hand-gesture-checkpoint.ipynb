{
 "cells": [
  {
   "cell_type": "code",
   "execution_count": 5,
   "id": "25c1e8c9",
   "metadata": {
    "_cell_guid": "b1076dfc-b9ad-4769-8c92-a6c4dae69d19",
    "_uuid": "8f2839f25d086af736a60e9eeb907d3b93b6e0e5",
    "execution": {
     "iopub.execute_input": "2023-03-24T12:24:02.313508Z",
     "iopub.status.busy": "2023-03-24T12:24:02.312935Z",
     "iopub.status.idle": "2023-03-24T12:24:02.323881Z",
     "shell.execute_reply": "2023-03-24T12:24:02.322851Z"
    },
    "papermill": {
     "duration": 0.022784,
     "end_time": "2023-03-24T12:24:02.326282",
     "exception": false,
     "start_time": "2023-03-24T12:24:02.303498",
     "status": "completed"
    },
    "tags": []
   },
   "outputs": [
    {
     "ename": "SyntaxError",
     "evalue": "invalid syntax (3582234644.py, line 1)",
     "output_type": "error",
     "traceback": [
      "\u001b[1;36m  Input \u001b[1;32mIn [5]\u001b[1;36m\u001b[0m\n\u001b[1;33m    pip install tensorflow\u001b[0m\n\u001b[1;37m        ^\u001b[0m\n\u001b[1;31mSyntaxError\u001b[0m\u001b[1;31m:\u001b[0m invalid syntax\n"
     ]
    }
   ],
   "source": [
    "import numpy as np \n",
    "import pandas as pd \n",
    "import os"
   ]
  },
  {
   "cell_type": "code",
   "execution_count": 2,
   "id": "ca5f18a1",
   "metadata": {},
   "outputs": [],
   "source": [
    "# !pip install tensorflow-macos==2.9\n",
    "\n",
    "# !pip install tensorflow-metal==0.5.0\n",
    "# !pip install numpy  --upgrade\n",
    "# !pip install pandas  --upgrade\n",
    "# !pip install matplotlib  --upgrade\n",
    "# !pip install scikit-learn  --upgrade"
   ]
  },
  {
   "cell_type": "code",
   "execution_count": 3,
   "id": "e348f3b6",
   "metadata": {},
   "outputs": [
    {
     "ename": "ModuleNotFoundError",
     "evalue": "No module named 'tensorflow'",
     "output_type": "error",
     "traceback": [
      "\u001b[1;31m---------------------------------------------------------------------------\u001b[0m",
      "\u001b[1;31mModuleNotFoundError\u001b[0m                       Traceback (most recent call last)",
      "Input \u001b[1;32mIn [3]\u001b[0m, in \u001b[0;36m<cell line: 4>\u001b[1;34m()\u001b[0m\n\u001b[0;32m      2\u001b[0m \u001b[38;5;28;01mimport\u001b[39;00m \u001b[38;5;21;01mpandas\u001b[39;00m \u001b[38;5;28;01mas\u001b[39;00m \u001b[38;5;21;01mpd\u001b[39;00m\n\u001b[0;32m      3\u001b[0m \u001b[38;5;28;01mimport\u001b[39;00m \u001b[38;5;21;01msklearn\u001b[39;00m \u001b[38;5;28;01mas\u001b[39;00m \u001b[38;5;21;01msk\u001b[39;00m\n\u001b[1;32m----> 4\u001b[0m \u001b[38;5;28;01mimport\u001b[39;00m \u001b[38;5;21;01mtensorflow\u001b[39;00m \u001b[38;5;28;01mas\u001b[39;00m \u001b[38;5;21;01mtf\u001b[39;00m\n\u001b[0;32m      5\u001b[0m \u001b[38;5;28;01mimport\u001b[39;00m \u001b[38;5;21;01mplatform\u001b[39;00m\n\u001b[0;32m      6\u001b[0m \u001b[38;5;28mprint\u001b[39m(\u001b[38;5;124mf\u001b[39m\u001b[38;5;124m\"\u001b[39m\u001b[38;5;124mPython Platform: \u001b[39m\u001b[38;5;132;01m{\u001b[39;00mplatform\u001b[38;5;241m.\u001b[39mplatform()\u001b[38;5;132;01m}\u001b[39;00m\u001b[38;5;124m\"\u001b[39m)\n",
      "\u001b[1;31mModuleNotFoundError\u001b[0m: No module named 'tensorflow'"
     ]
    }
   ],
   "source": [
    "import sys\n",
    "import pandas as pd\n",
    "import sklearn as sk\n",
    "import tensorflow as tf\n",
    "import platform\n",
    "print(f\"Python Platform: {platform.platform()}\")\n",
    "print(f\"Tensor Flow Version: {tf.__version__}\")\n",
    "print(f\"Keras Version: {tf.keras.__version__}\")\n",
    "print()\n",
    "print(f\"Python {sys.version}\")\n",
    "print(f\"Pandas {pd.__version__}\")\n",
    "print(f\"Scikit-Learn {sk.__version__}\")\n",
    "gpu = len(tf.config.list_physical_devices('GPU'))>0\n",
    "print(\"GPU is\", \"available\" if gpu else \"NOT AVAILABLE\")"
   ]
  },
  {
   "cell_type": "code",
   "execution_count": null,
   "id": "feb76b06",
   "metadata": {},
   "outputs": [],
   "source": [
    "# Load Data\n",
    "import cv2\n",
    "\n",
    "# Data Visualisation\n",
    "import matplotlib.pyplot as plt\n",
    "\n",
    "# Model Training\n",
    "from tensorflow.keras import utils\n",
    "from tensorflow.keras.optimizers import Adam\n",
    "from tensorflow.keras.models import Sequential\n",
    "from tensorflow.keras.layers import Dense, Dropout, Flatten, Conv2D, MaxPooling2D, BatchNormalization\n",
    "from sklearn.model_selection import train_test_split"
   ]
  },
  {
   "cell_type": "code",
   "execution_count": null,
   "id": "84c0e001",
   "metadata": {
    "execution": {
     "iopub.execute_input": "2023-03-24T12:24:02.341640Z",
     "iopub.status.busy": "2023-03-24T12:24:02.340827Z",
     "iopub.status.idle": "2023-03-24T12:24:02.360407Z",
     "shell.execute_reply": "2023-03-24T12:24:02.359230Z"
    },
    "papermill": {
     "duration": 0.030101,
     "end_time": "2023-03-24T12:24:02.363151",
     "exception": false,
     "start_time": "2023-03-24T12:24:02.333050",
     "status": "completed"
    },
    "tags": []
   },
   "outputs": [],
   "source": [
    "os.listdir('/Users/akashravi/Desktop/Hand_Gesture_Detection/asl_alphabet_train/')"
   ]
  },
  {
   "cell_type": "code",
   "execution_count": null,
   "id": "a8c7a1a5",
   "metadata": {
    "execution": {
     "iopub.execute_input": "2023-03-24T12:24:11.412229Z",
     "iopub.status.busy": "2023-03-24T12:24:11.411522Z",
     "iopub.status.idle": "2023-03-24T12:24:11.416900Z",
     "shell.execute_reply": "2023-03-24T12:24:11.415838Z"
    },
    "papermill": {
     "duration": 0.015807,
     "end_time": "2023-03-24T12:24:11.419201",
     "exception": false,
     "start_time": "2023-03-24T12:24:11.403394",
     "status": "completed"
    },
    "tags": []
   },
   "outputs": [],
   "source": [
    "train_dir = '/Users/akashravi/Desktop/Hand_Gesture_Detection/asl_alphabet_train/'\n",
    "test1_dir = '/Users/akashravi/Desktop/Hand_Gesture_Detection/asl_alphabet_test/'\n",
    "test2_dir = '/Users/akashravi/Desktop/Hand_Gesture_Detection/asl_alphabet_train/'\n"
   ]
  },
  {
   "cell_type": "code",
   "execution_count": null,
   "id": "e448260b",
   "metadata": {
    "execution": {
     "iopub.execute_input": "2023-03-24T12:24:11.433746Z",
     "iopub.status.busy": "2023-03-24T12:24:11.433358Z",
     "iopub.status.idle": "2023-03-24T12:24:11.438421Z",
     "shell.execute_reply": "2023-03-24T12:24:11.437433Z"
    },
    "papermill": {
     "duration": 0.015047,
     "end_time": "2023-03-24T12:24:11.440703",
     "exception": false,
     "start_time": "2023-03-24T12:24:11.425656",
     "status": "completed"
    },
    "tags": []
   },
   "outputs": [],
   "source": [
    "A_test_path = test1_dir + 'A_test.jpg'"
   ]
  },
  {
   "cell_type": "code",
   "execution_count": null,
   "id": "55477b29",
   "metadata": {
    "execution": {
     "iopub.execute_input": "2023-03-24T12:24:11.455713Z",
     "iopub.status.busy": "2023-03-24T12:24:11.455315Z",
     "iopub.status.idle": "2023-03-24T12:24:11.491476Z",
     "shell.execute_reply": "2023-03-24T12:24:11.490383Z"
    },
    "papermill": {
     "duration": 0.047103,
     "end_time": "2023-03-24T12:24:11.494329",
     "exception": false,
     "start_time": "2023-03-24T12:24:11.447226",
     "status": "completed"
    },
    "tags": []
   },
   "outputs": [],
   "source": [
    "train_list = os.listdir(train_dir)[1:]\n",
    "test1_list = os.listdir(test1_dir)\n",
    "test2_list = os.listdir(test2_dir)[1:]\n",
    "train_list"
   ]
  },
  {
   "cell_type": "code",
   "execution_count": null,
   "id": "72351620",
   "metadata": {
    "execution": {
     "iopub.execute_input": "2023-03-24T12:24:11.509653Z",
     "iopub.status.busy": "2023-03-24T12:24:11.509274Z",
     "iopub.status.idle": "2023-03-24T12:24:11.515227Z",
     "shell.execute_reply": "2023-03-24T12:24:11.514176Z"
    },
    "papermill": {
     "duration": 0.016645,
     "end_time": "2023-03-24T12:24:11.517573",
     "exception": false,
     "start_time": "2023-03-24T12:24:11.500928",
     "status": "completed"
    },
    "tags": []
   },
   "outputs": [],
   "source": [
    "classes_map = ['A', 'B', 'C', 'D', 'E', 'F', 'G', 'H', 'I', 'J', 'K', \n",
    "           'L', 'M', 'N', 'O', 'P', 'Q', 'R', 'S', 'T', 'U', 'V', \n",
    "           'W', 'X', 'Y', 'Z', 'del', 'nothing', 'space']"
   ]
  },
  {
   "cell_type": "code",
   "execution_count": null,
   "id": "d7e6096f",
   "metadata": {
    "execution": {
     "iopub.execute_input": "2023-03-24T12:24:11.532878Z",
     "iopub.status.busy": "2023-03-24T12:24:11.532464Z",
     "iopub.status.idle": "2023-03-24T12:24:11.540403Z",
     "shell.execute_reply": "2023-03-24T12:24:11.539548Z"
    },
    "papermill": {
     "duration": 0.018287,
     "end_time": "2023-03-24T12:24:11.542407",
     "exception": false,
     "start_time": "2023-03-24T12:24:11.524120",
     "status": "completed"
    },
    "tags": []
   },
   "outputs": [],
   "source": [
    "def get_data(direc):\n",
    "    images = []\n",
    "    labels = []\n",
    "    train_list = os.listdir(direc)[1:]\n",
    "    for i in train_list:\n",
    "        print(i,end = \" \")\n",
    "        for image in os.listdir(direc + i):\n",
    "            img = cv2.imread(direc + i + '/' + image)\n",
    "            img = cv2.resize(img, (32, 32))\n",
    "            images.append(img)\n",
    "            labels.append(classes_map.index(i))\n",
    "    print(\"\\nimages read successfully\")\n",
    "    return images, labels"
   ]
  },
  {
   "cell_type": "code",
   "execution_count": null,
   "id": "e2e8e132",
   "metadata": {
    "execution": {
     "iopub.execute_input": "2023-03-24T12:24:11.557632Z",
     "iopub.status.busy": "2023-03-24T12:24:11.557246Z",
     "iopub.status.idle": "2023-03-24T12:37:27.309594Z",
     "shell.execute_reply": "2023-03-24T12:37:27.308376Z"
    },
    "papermill": {
     "duration": 795.768549,
     "end_time": "2023-03-24T12:37:27.317647",
     "exception": false,
     "start_time": "2023-03-24T12:24:11.549098",
     "status": "completed"
    },
    "tags": []
   },
   "outputs": [],
   "source": [
    "X, Y = get_data(train_dir)      "
   ]
  },
  {
   "cell_type": "code",
   "execution_count": null,
   "id": "d67cfdbc",
   "metadata": {
    "execution": {
     "iopub.execute_input": "2023-03-24T12:37:27.332603Z",
     "iopub.status.busy": "2023-03-24T12:37:27.332207Z",
     "iopub.status.idle": "2023-03-24T12:37:27.339901Z",
     "shell.execute_reply": "2023-03-24T12:37:27.338787Z"
    },
    "papermill": {
     "duration": 0.017764,
     "end_time": "2023-03-24T12:37:27.341974",
     "exception": false,
     "start_time": "2023-03-24T12:37:27.324210",
     "status": "completed"
    },
    "tags": []
   },
   "outputs": [],
   "source": [
    "len(X), len(Y)"
   ]
  },
  {
   "cell_type": "code",
   "execution_count": null,
   "id": "42070db6",
   "metadata": {
    "execution": {
     "iopub.execute_input": "2023-03-24T12:37:27.357521Z",
     "iopub.status.busy": "2023-03-24T12:37:27.356797Z",
     "iopub.status.idle": "2023-03-24T12:37:29.436799Z",
     "shell.execute_reply": "2023-03-24T12:37:29.435083Z"
    },
    "papermill": {
     "duration": 2.090751,
     "end_time": "2023-03-24T12:37:29.439405",
     "exception": false,
     "start_time": "2023-03-24T12:37:27.348654",
     "status": "completed"
    },
    "tags": []
   },
   "outputs": [],
   "source": [
    "def plot_images():\n",
    "    figure = plt.figure()\n",
    "    plt.figure(figsize=(16,5))\n",
    "\n",
    "    for i in range (0,29):\n",
    "        plt.subplot(3,10,i+1)\n",
    "        plt.xticks([])\n",
    "        plt.yticks([])\n",
    "        path = train_dir + \"{0}/{0}1.jpg\".format(classes_map[i])\n",
    "        img = plt.imread(path)\n",
    "        plt.imshow(img)\n",
    "        plt.xlabel(classes_map[i])\n",
    "        \n",
    "plot_images()"
   ]
  },
  {
   "cell_type": "code",
   "execution_count": null,
   "id": "956e5d5e",
   "metadata": {
    "execution": {
     "iopub.execute_input": "2023-03-24T12:37:29.471738Z",
     "iopub.status.busy": "2023-03-24T12:37:29.471277Z",
     "iopub.status.idle": "2023-03-24T12:37:30.644278Z",
     "shell.execute_reply": "2023-03-24T12:37:30.643116Z"
    },
    "papermill": {
     "duration": 1.192041,
     "end_time": "2023-03-24T12:37:30.646982",
     "exception": false,
     "start_time": "2023-03-24T12:37:29.454941",
     "status": "completed"
    },
    "tags": []
   },
   "outputs": [],
   "source": [
    "def preprocess_data(X, y):\n",
    "    np_X = np.array(X)\n",
    "    normalised_X = np_X.astype('float32')/255.0\n",
    "    \n",
    "    label_encoded_y = utils.to_categorical(y)\n",
    "    \n",
    "    x_train, x_test, y_train, y_test = train_test_split(normalised_X, label_encoded_y, test_size = 0.1)\n",
    "    \n",
    "    return x_train, x_test, y_train, y_test\n",
    "\n",
    "x_train, x_test, y_train, y_test = preprocess_data(X, Y)"
   ]
  },
  {
   "cell_type": "code",
   "execution_count": null,
   "id": "3fb04baf",
   "metadata": {
    "execution": {
     "iopub.execute_input": "2023-03-24T12:37:30.679819Z",
     "iopub.status.busy": "2023-03-24T12:37:30.679380Z",
     "iopub.status.idle": "2023-03-24T12:37:30.685495Z",
     "shell.execute_reply": "2023-03-24T12:37:30.684281Z"
    },
    "papermill": {
     "duration": 0.025678,
     "end_time": "2023-03-24T12:37:30.688033",
     "exception": false,
     "start_time": "2023-03-24T12:37:30.662355",
     "status": "completed"
    },
    "tags": []
   },
   "outputs": [],
   "source": [
    "print(\"Training data:\", x_train.shape)\n",
    "print(\"Test data:\", x_test.shape)"
   ]
  },
  {
   "cell_type": "code",
   "execution_count": null,
   "id": "58934861",
   "metadata": {
    "execution": {
     "iopub.execute_input": "2023-03-24T12:37:30.721078Z",
     "iopub.status.busy": "2023-03-24T12:37:30.720423Z",
     "iopub.status.idle": "2023-03-24T12:37:30.725011Z",
     "shell.execute_reply": "2023-03-24T12:37:30.724210Z"
    },
    "papermill": {
     "duration": 0.023971,
     "end_time": "2023-03-24T12:37:30.727138",
     "exception": false,
     "start_time": "2023-03-24T12:37:30.703167",
     "status": "completed"
    },
    "tags": []
   },
   "outputs": [],
   "source": [
    "classes = 29\n",
    "batch = 32\n",
    "epochs = 15\n",
    "learning_rate = 0.001"
   ]
  },
  {
   "cell_type": "code",
   "execution_count": null,
   "id": "0d2e4dc1",
   "metadata": {
    "execution": {
     "iopub.execute_input": "2023-03-24T12:37:30.759666Z",
     "iopub.status.busy": "2023-03-24T12:37:30.759023Z",
     "iopub.status.idle": "2023-03-24T12:37:31.011072Z",
     "shell.execute_reply": "2023-03-24T12:37:31.010092Z"
    },
    "papermill": {
     "duration": 0.271643,
     "end_time": "2023-03-24T12:37:31.013813",
     "exception": false,
     "start_time": "2023-03-24T12:37:30.742170",
     "status": "completed"
    },
    "tags": []
   },
   "outputs": [],
   "source": [
    "model = Sequential()\n",
    "\n",
    "model.add(Conv2D(64, (3, 3), padding='same', input_shape=(32, 32, 3), activation='relu'))\n",
    "model.add(MaxPooling2D(pool_size=(2, 2)))\n",
    "model.add(BatchNormalization())\n",
    "\n",
    "model.add(Conv2D(128, (3, 3), padding='same', input_shape=(32, 32, 3), activation='relu'))\n",
    "model.add(MaxPooling2D(pool_size=(2, 2)))\n",
    "model.add(BatchNormalization())\n",
    "model.add(Dropout(0.2))\n",
    "\n",
    "model.add(Conv2D(256, (3, 3), padding='same', input_shape=(32, 32, 3), activation='relu'))\n",
    "model.add(MaxPooling2D(pool_size=(2, 2)))\n",
    "model.add(BatchNormalization())\n",
    "\n",
    "model.add(Flatten())\n",
    "model.add(Dropout(0.2))\n",
    "model.add(Dense(1024, activation='relu'))\n",
    "model.add(Dense(classes, activation='softmax'))"
   ]
  },
  {
   "cell_type": "code",
   "execution_count": null,
   "id": "faf52666",
   "metadata": {
    "execution": {
     "iopub.execute_input": "2023-03-24T12:37:31.046807Z",
     "iopub.status.busy": "2023-03-24T12:37:31.046101Z",
     "iopub.status.idle": "2023-03-24T12:37:31.061836Z",
     "shell.execute_reply": "2023-03-24T12:37:31.060715Z"
    },
    "papermill": {
     "duration": 0.035194,
     "end_time": "2023-03-24T12:37:31.064491",
     "exception": false,
     "start_time": "2023-03-24T12:37:31.029297",
     "status": "completed"
    },
    "tags": []
   },
   "outputs": [],
   "source": [
    "adam = Adam(learning_rate = learning_rate)\n",
    "model.compile(optimizer=adam, loss='categorical_crossentropy', metrics=['accuracy'])\n"
   ]
  },
  {
   "cell_type": "code",
   "execution_count": null,
   "id": "18cc2c7e",
   "metadata": {
    "execution": {
     "iopub.execute_input": "2023-03-24T12:37:31.096658Z",
     "iopub.status.busy": "2023-03-24T12:37:31.096249Z",
     "iopub.status.idle": "2023-03-24T12:37:31.147796Z",
     "shell.execute_reply": "2023-03-24T12:37:31.146568Z"
    },
    "papermill": {
     "duration": 0.079091,
     "end_time": "2023-03-24T12:37:31.158481",
     "exception": false,
     "start_time": "2023-03-24T12:37:31.079390",
     "status": "completed"
    },
    "tags": []
   },
   "outputs": [],
   "source": [
    "model.summary()"
   ]
  },
  {
   "cell_type": "code",
   "execution_count": null,
   "id": "bb42f766",
   "metadata": {
    "execution": {
     "iopub.execute_input": "2023-03-24T12:37:31.196496Z",
     "iopub.status.busy": "2023-03-24T12:37:31.196110Z",
     "iopub.status.idle": "2023-03-24T13:55:05.855877Z",
     "shell.execute_reply": "2023-03-24T13:55:05.854440Z"
    },
    "papermill": {
     "duration": 4654.682613,
     "end_time": "2023-03-24T13:55:05.858664",
     "exception": false,
     "start_time": "2023-03-24T12:37:31.176051",
     "status": "completed"
    },
    "tags": []
   },
   "outputs": [],
   "source": [
    "history = model.fit(x_train, y_train, batch_size = batch, epochs = epochs, validation_split = 0.2, shuffle = True, verbose = 1)"
   ]
  },
  {
   "cell_type": "code",
   "execution_count": null,
   "id": "913bdfbb",
   "metadata": {
    "execution": {
     "iopub.execute_input": "2023-03-24T13:55:09.940937Z",
     "iopub.status.busy": "2023-03-24T13:55:09.940143Z",
     "iopub.status.idle": "2023-03-24T13:55:19.488025Z",
     "shell.execute_reply": "2023-03-24T13:55:19.484279Z"
    },
    "papermill": {
     "duration": 11.659454,
     "end_time": "2023-03-24T13:55:19.492493",
     "exception": false,
     "start_time": "2023-03-24T13:55:07.833039",
     "status": "completed"
    },
    "tags": []
   },
   "outputs": [],
   "source": [
    "test_loss, test_acc = model.evaluate(x_test, y_test, verbose = 0)\n",
    "print('Test accuracy:', test_acc)\n",
    "print('Test loss:', test_loss)\n"
   ]
  },
  {
   "cell_type": "code",
   "execution_count": null,
   "id": "9b5c5b01",
   "metadata": {
    "execution": {
     "iopub.execute_input": "2023-03-24T13:55:23.499138Z",
     "iopub.status.busy": "2023-03-24T13:55:23.498693Z",
     "iopub.status.idle": "2023-03-24T13:55:23.891695Z",
     "shell.execute_reply": "2023-03-24T13:55:23.890725Z"
    },
    "papermill": {
     "duration": 2.460526,
     "end_time": "2023-03-24T13:55:23.894029",
     "exception": false,
     "start_time": "2023-03-24T13:55:21.433503",
     "status": "completed"
    },
    "tags": []
   },
   "outputs": [],
   "source": [
    "def plot_results(model):\n",
    "\n",
    "    plt.figure(figsize=(12, 12))\n",
    "    plt.subplot(3, 2, 1)\n",
    "    plt.plot(history.history['accuracy'], label = 'train_accuracy')\n",
    "    plt.plot(history.history['val_accuracy'], label = 'val_accuracy')\n",
    "    plt.xlabel('epoch')\n",
    "    plt.ylabel('accuracy')\n",
    "    plt.legend()\n",
    "    plt.subplot(3, 2, 2)\n",
    "    plt.plot(history.history['loss'], label = 'train_loss')\n",
    "    plt.plot(history.history['val_loss'], label = 'val_loss')\n",
    "    plt.xlabel('epoch')\n",
    "    plt.ylabel('loss')\n",
    "    plt.legend()\n",
    "    plt.show()\n",
    "\n",
    "\n",
    "    \n",
    "plot_results(model)"
   ]
  },
  {
   "cell_type": "code",
   "execution_count": null,
   "id": "ec1bba1c",
   "metadata": {
    "execution": {
     "iopub.execute_input": "2023-03-24T13:55:27.765338Z",
     "iopub.status.busy": "2023-03-24T13:55:27.764745Z",
     "iopub.status.idle": "2023-03-24T13:55:32.716405Z",
     "shell.execute_reply": "2023-03-24T13:55:32.715109Z"
    },
    "papermill": {
     "duration": 6.941338,
     "end_time": "2023-03-24T13:55:32.719052",
     "exception": false,
     "start_time": "2023-03-24T13:55:25.777714",
     "status": "completed"
    },
    "tags": []
   },
   "outputs": [],
   "source": [
    "#unseen data seperate dataset\n",
    "X_test2, Y_test2 = get_data(test2_dir)\n",
    "#X_test1, Y_test1 = get_data(test1_dir)\n"
   ]
  },
  {
   "cell_type": "code",
   "execution_count": null,
   "id": "18490c0d",
   "metadata": {
    "execution": {
     "iopub.execute_input": "2023-03-24T13:55:36.772557Z",
     "iopub.status.busy": "2023-03-24T13:55:36.772139Z",
     "iopub.status.idle": "2023-03-24T13:55:36.785902Z",
     "shell.execute_reply": "2023-03-24T13:55:36.784616Z"
    },
    "papermill": {
     "duration": 2.096573,
     "end_time": "2023-03-24T13:55:36.788581",
     "exception": false,
     "start_time": "2023-03-24T13:55:34.692008",
     "status": "completed"
    },
    "tags": []
   },
   "outputs": [],
   "source": [
    "X_test = np.array(X_test2) / 255.0\n",
    "len(X_test)"
   ]
  },
  {
   "cell_type": "code",
   "execution_count": null,
   "id": "5642d73e",
   "metadata": {
    "execution": {
     "iopub.execute_input": "2023-03-24T13:55:40.704634Z",
     "iopub.status.busy": "2023-03-24T13:55:40.704153Z",
     "iopub.status.idle": "2023-03-24T13:55:40.712675Z",
     "shell.execute_reply": "2023-03-24T13:55:40.711448Z"
    },
    "papermill": {
     "duration": 2.026182,
     "end_time": "2023-03-24T13:55:40.715565",
     "exception": false,
     "start_time": "2023-03-24T13:55:38.689383",
     "status": "completed"
    },
    "tags": []
   },
   "outputs": [],
   "source": [
    "Y_test = utils.to_categorical(Y_test2)\n",
    "Y_test"
   ]
  },
  {
   "cell_type": "code",
   "execution_count": null,
   "id": "3b7db018",
   "metadata": {
    "execution": {
     "iopub.execute_input": "2023-03-24T13:55:44.816198Z",
     "iopub.status.busy": "2023-03-24T13:55:44.815690Z",
     "iopub.status.idle": "2023-03-24T13:55:45.808527Z",
     "shell.execute_reply": "2023-03-24T13:55:45.807296Z"
    },
    "papermill": {
     "duration": 3.089933,
     "end_time": "2023-03-24T13:55:45.811508",
     "exception": false,
     "start_time": "2023-03-24T13:55:42.721575",
     "status": "completed"
    },
    "tags": []
   },
   "outputs": [],
   "source": [
    "_test_loss, _test_acc = model.evaluate(X_test, Y_test, verbose = 0)\n",
    "print('Test accuracy:', _test_acc)\n",
    "print('Test loss:', _test_loss)"
   ]
  },
  {
   "cell_type": "code",
   "execution_count": null,
   "id": "007a699f",
   "metadata": {},
   "outputs": [],
   "source": [
    "model.save('model_hand_gesture.h5')"
   ]
  },
  {
   "cell_type": "code",
   "execution_count": null,
   "id": "cd09e8ee",
   "metadata": {},
   "outputs": [],
   "source": []
  }
 ],
 "metadata": {
  "kernelspec": {
   "display_name": "Python 3 (ipykernel)",
   "language": "python",
   "name": "python3"
  },
  "language_info": {
   "codemirror_mode": {
    "name": "ipython",
    "version": 3
   },
   "file_extension": ".py",
   "mimetype": "text/x-python",
   "name": "python",
   "nbconvert_exporter": "python",
   "pygments_lexer": "ipython3",
   "version": "3.9.12"
  },
  "papermill": {
   "default_parameters": {},
   "duration": 5522.018687,
   "end_time": "2023-03-24T13:55:54.627195",
   "environment_variables": {},
   "exception": null,
   "input_path": "__notebook__.ipynb",
   "output_path": "__notebook__.ipynb",
   "parameters": {},
   "start_time": "2023-03-24T12:23:52.608508",
   "version": "2.3.4"
  }
 },
 "nbformat": 4,
 "nbformat_minor": 5
}
